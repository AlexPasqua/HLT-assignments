{
 "cells": [
  {
   "cell_type": "markdown",
   "metadata": {},
   "source": [
    " # Homework 1\n",
    " \n",
    " This homework will explore some basic techniques presented in the first two weeks of the course.\n",
    " \n",
    " You will be invited to experiment with:\n",
    " \n",
    " 1. Co-occurrences\n",
    " 2. Naive Bayes classifier\n",
    " \n",
    " \n",
    " Fill in the blanks with your own code and see how it works.\n",
    " \n",
    " # 1. Co-occurrences"
   ]
  },
  {
   "cell_type": "code",
   "execution_count": 1,
   "metadata": {},
   "outputs": [],
   "source": [
    "import nltk\n",
    "from nltk.corpus import brown"
   ]
  },
  {
   "cell_type": "markdown",
   "metadata": {},
   "source": [
    "### Vocabulary\n",
    "\n",
    "Get the list of words of documents in the category `news`."
   ]
  },
  {
   "cell_type": "code",
   "execution_count": 2,
   "metadata": {},
   "outputs": [
    {
     "name": "stderr",
     "output_type": "stream",
     "text": [
      "[nltk_data] Downloading package brown to\n",
      "[nltk_data]     C:\\Users\\alexp\\AppData\\Roaming\\nltk_data...\n",
      "[nltk_data]   Package brown is already up-to-date!\n"
     ]
    }
   ],
   "source": [
    "# THIS WILL DOWNLOAD THE CORPUS IN THE CURRENT DIRECTORY\n",
    "# COMMENT THE 1ST LINE IF YOU ALREADY HAVE THE CORPUS SOMEWHERE ELSE\n",
    "nltk.download('brown')\n",
    "brown_news = brown.words(categories='news')"
   ]
  },
  {
   "cell_type": "markdown",
   "metadata": {},
   "source": [
    "Extract the vocabulary and assign an index to each word."
   ]
  },
  {
   "cell_type": "code",
   "execution_count": 3,
   "metadata": {},
   "outputs": [],
   "source": [
    "# this should be a set\n",
    "news_vocab = set(brown_news)\n",
    "\n",
    "# this should be a dictionary that assigns an index to each word\n",
    "news_word_ids = {word: id for id, word in enumerate(news_vocab)}"
   ]
  },
  {
   "cell_type": "markdown",
   "metadata": {},
   "source": [
    "## 1.1 Compute co-occurrence Matrix\n",
    "Constructs a co-occurrence matrix for a certain window-size $n$ (with a default of\n",
    "4), considering words $n$ before and $n$ after the word in the center of the window."
   ]
  },
  {
   "cell_type": "code",
   "execution_count": 4,
   "metadata": {},
   "outputs": [],
   "source": [
    "import numpy as np\n",
    "\n",
    "def co_occurrence_matrix(words, word_ids, n=4):\n",
    "    \"\"\"\n",
    "    :param words: a list of words\n",
    "    :param word_ids: dictionary word -> id\n",
    "    :param n: size of context\n",
    "    :return: the matrix of cooccurrences\n",
    "    \"\"\"\n",
    "    # your code here\n",
    "    # initialize matrix\n",
    "    voc_size = len(word_ids.keys())\n",
    "    M = np.zeros(shape=(voc_size, voc_size), dtype=int)\n",
    "\n",
    "    # scan list of words and fill the matrix\n",
    "    for i, centr_w in enumerate(words):\n",
    "        # create context for the current word\n",
    "        # keep the center word in the context variable to count co-occurrences of a word with itself\n",
    "        context = words[max(0, i-n) : min(len(words), i+n)]\n",
    "        # for each word in context, increment the correct cells in M\n",
    "        for contxt_w in context:\n",
    "            M[word_ids[centr_w]][word_ids[contxt_w]] += 1\n",
    "\n",
    "    return M"
   ]
  },
  {
   "cell_type": "code",
   "execution_count": 5,
   "metadata": {},
   "outputs": [],
   "source": [
    "M = co_occurrence_matrix(brown_news, news_word_ids, 5)"
   ]
  },
  {
   "cell_type": "markdown",
   "metadata": {},
   "source": [
    "### Explore co-occurrences"
   ]
  },
  {
   "cell_type": "code",
   "execution_count": 6,
   "metadata": {},
   "outputs": [],
   "source": [
    "def show_cooccurrences(word_list, word_ids, M):\n",
    "    \"\"\"\n",
    "    :param word_list: the list of words whose co-occurrences to show\n",
    "    :param word_ids: dictionary assigning ID's to words\n",
    "    :param M: the co-occurrence matrix\n",
    "    \"\"\"\n",
    "    # print the top 10 most co-occurring words for each word in word_list\n",
    "    for curr_w in word_list:\n",
    "        if curr_w in word_ids:\n",
    "            co_occs = [(w, M[word_ids[curr_w]][word_ids[w]]) for w in word_ids]\n",
    "            co_occs.sort(key=(lambda couple: couple[1]), reverse=True)  # descending order by number of cooccurrences\n",
    "            print(\"{:15s}\\n{}\\n\".format(f\"\\\"{curr_w}\\\":\", co_occs[: 10]))\n",
    "        else:\n",
    "            print(f\"\\\"{curr_w}\\\": not present in vocabulary\\n\")"
   ]
  },
  {
   "cell_type": "code",
   "execution_count": 7,
   "metadata": {},
   "outputs": [],
   "source": [
    "word_list = ['python', 'snake', 'language', 'cobra', 'food', 'bread', 'wine', 'beer',\n",
    "             'barrels', 'oil', 'energy', 'kuwait', 'revenues', 'profits']"
   ]
  },
  {
   "cell_type": "code",
   "execution_count": 8,
   "metadata": {},
   "outputs": [
    {
     "name": "stdout",
     "output_type": "stream",
     "text": [
      "\"python\": not present in vocabulary\n",
      "\n",
      "\"snake\":       \n",
      "[('and', 2), ('snake', 1), ('farms', 1), ('braced', 1), ('souvenir', 1), ('are', 1), (',', 1), ('restaurants', 1), ('stands', 1), ('gradually', 0)]\n",
      "\n",
      "\"language\":    \n",
      "[(',', 3), ('language', 2), ('you', 2), (';', 2), ('.', 1), ('And', 1), ('think', 1), ('week', 1), ('science', 1), ('The', 1)]\n",
      "\n",
      "\"cobra\": not present in vocabulary\n",
      "\n",
      "\"food\":        \n",
      "[('food', 13), (',', 11), ('.', 6), ('the', 5), ('a', 4), ('of', 3), ('``', 3), ('and', 3), ('they', 2), (\"SMU's\", 2)]\n",
      "\n",
      "\"bread\":       \n",
      "[('ring', 1), ('rich', 1), ('bread', 1), ('coconut', 1), ('with', 1), (',', 1), ('yeast', 1), ('a', 1), ('and', 1), ('filling', 1)]\n",
      "\n",
      "\"wine\": not present in vocabulary\n",
      "\n",
      "\"beer\":        \n",
      "[('beer', 2), ('a', 2), ('of', 1), ('stein', 1), ('down', 1), ('drop', 1), ('the', 1), ('such', 1), ('at', 1), ('has', 1)]\n",
      "\n",
      "\"barrels\": not present in vocabulary\n",
      "\n",
      "\"oil\":         \n",
      "[('oil', 6), ('and', 5), ('.', 3), (',', 3), ('?', 2), ('the', 2), ('mill', 2), ('The', 2), ('by', 2), ('supplies', 2)]\n",
      "\n",
      "\"energy\":      \n",
      "[('was', 2), ('energy', 2), ('Electric', 1), ('of', 1), ('more', 1), ('atomic', 1), ('reactors', 1), ('after', 1), ('it', 1), ('not', 1)]\n",
      "\n",
      "\"kuwait\": not present in vocabulary\n",
      "\n",
      "\"revenues\":    \n",
      "[('the', 13), ('revenues', 13), ('in', 6), ('.', 5), (',', 4), ('of', 3), ('net', 3), ('to', 3), ('tax', 2), ('turnpikes', 2)]\n",
      "\n",
      "\"profits\":     \n",
      "[('profits', 2), ('the', 2), ('.', 1), ('of', 1), ('causes', 1), ('from', 1), ('theaters', 1), ('managers', 1), ('drop', 1), ('Besides', 1)]\n",
      "\n"
     ]
    }
   ],
   "source": [
    "show_cooccurrences(word_list, news_word_ids, M)"
   ]
  },
  {
   "cell_type": "markdown",
   "metadata": {},
   "source": [
    "### Do the same for category ‘hobbies’."
   ]
  },
  {
   "cell_type": "code",
   "execution_count": 9,
   "metadata": {},
   "outputs": [
    {
     "name": "stdout",
     "output_type": "stream",
     "text": [
      "\"python\": not present in vocabulary\n",
      "\n",
      "\"snake\": not present in vocabulary\n",
      "\n",
      "\"language\": not present in vocabulary\n",
      "\n",
      "\"cobra\": not present in vocabulary\n",
      "\n",
      "\"food\":        \n",
      "[('food', 9), (',', 6), ('and', 6), ('of', 3), ('that', 3), ('.', 2), ('those', 2), ('the', 2), ('good', 2), ('in', 2)]\n",
      "\n",
      "\"bread\":       \n",
      "[(',', 5), ('bread', 2), ('salad', 2), ('a', 2), ('preparing', 1), ('or', 1), ('drink', 1), ('with', 1), ('meat', 1), ('corn', 1)]\n",
      "\n",
      "\"wine\":        \n",
      "[('wine', 2), ('of', 1), ('solvency', 1), ('complained', 1), ('one', 1), ('our', 1), ('the', 1), ('at', 1), ('either', 1), ('beating', 1)]\n",
      "\n",
      "\"beer\":        \n",
      "[('or', 2), ('beer', 2), ('for', 2), ('and', 2), ('keep', 1), ('cooler', 1), ('hot', 1), ('drinks', 1), ('frozen', 1), ('soft', 1)]\n",
      "\n",
      "\"barrels\":     \n",
      "[('barrels', 2), ('to', 2), ('they', 1), ('was', 1), ('so', 1), ('how', 1), ('shot', 1), ('the', 1), ('out', 1), ('regulate', 1)]\n",
      "\n",
      "\"oil\":         \n",
      "[('oil', 28), ('the', 19), ('.', 11), (',', 10), ('for', 9), ('a', 9), ('and', 9), ('in', 8), ('of', 6), ('company', 5)]\n",
      "\n",
      "\"energy\":      \n",
      "[('energy', 6), ('the', 4), ('The', 4), ('.', 3), ('of', 2), ('after', 2), ('!', 2), ('by', 2), (',', 2), ('and', 2)]\n",
      "\n",
      "\"kuwait\": not present in vocabulary\n",
      "\n",
      "\"revenues\": not present in vocabulary\n",
      "\n",
      "\"profits\":     \n",
      "[('as', 2), ('profits', 1), (\"distributor's\", 1), ('the', 1), ('which', 1), ('is', 1), ('--', 1), ('well', 1), (',', 1), ('gradually', 0)]\n",
      "\n"
     ]
    }
   ],
   "source": [
    "brown_hobbies = brown.words(categories='hobbies')\n",
    "hobbies_vocab = set(brown_hobbies)\n",
    "hobbies_word_ids = {word: id for id, word in enumerate(hobbies_vocab)}\n",
    "M_hobbies = co_occurrence_matrix(brown_hobbies, hobbies_word_ids, 5)\n",
    "\n",
    "show_cooccurrences(word_list, hobbies_word_ids, M_hobbies)"
   ]
  },
  {
   "cell_type": "markdown",
   "metadata": {},
   "source": [
    "## 1.2 Visualize the Vectors\n",
    "Projects vectors into two dimensions and use it to plot the rows of the sliced matrix, using the technique of Principal\n",
    "Component Analysis,"
   ]
  },
  {
   "cell_type": "code",
   "execution_count": 10,
   "metadata": {},
   "outputs": [],
   "source": [
    "from sklearn.decomposition import PCA\n",
    "%matplotlib inline\n",
    "import matplotlib.pyplot as plt\n",
    "plt.style.use('ggplot')\n",
    "\n",
    "def visualize_vectors(words, word_vectors):\n",
    "    \"\"\"\n",
    "    Plot a 2 dimensional visualization of word vectors.\n",
    "    :param words: the words to visualize\n",
    "    :param word_vectors: the vectors for those words\n",
    "    \"\"\"\n",
    "    vector_twodim = PCA().fit_transform(word_vectors)[:,:2]\n",
    "    # show the numerical values of reduced vectors\n",
    "    for w,v in zip(words, vector_twodim):\n",
    "        print(w, v)\n",
    "\n",
    "    plt.figure(figsize=(8,8))\n",
    "    plt.scatter(vector_twodim[:,0], vector_twodim[:,1], edgecolors='k', c='r')\n",
    "    for word, (x,y) in zip(words, vector_twodim):\n",
    "        plt.text(x+0.05, y+0.05, word)"
   ]
  },
  {
   "cell_type": "markdown",
   "metadata": {},
   "source": [
    "Extract the co-occurrence vectors for a given list of words"
   ]
  },
  {
   "cell_type": "code",
   "execution_count": 11,
   "metadata": {},
   "outputs": [],
   "source": [
    "def cooccurrence_vectors(word_list, word_ids, M):\n",
    "    \"\"\"\n",
    "    :param word_list: a list of words\n",
    "    :param word_ids: dictionary of word IDs\n",
    "    :param M: co-occurrence matrix\n",
    "    :return: tow results: the vectors for the given words as well as word_list \n",
    "    \"\"\"\n",
    "    vectors = []\n",
    "    words = []\n",
    "    for w in word_list:\n",
    "        if w in word_ids:\n",
    "            vectors.append(M[word_ids[w]])\n",
    "            words.append(w)\n",
    "    return vectors, words"
   ]
  },
  {
   "cell_type": "markdown",
   "metadata": {},
   "source": [
    "Visualize the co-occurrence vectors for the given words:"
   ]
  },
  {
   "cell_type": "code",
   "execution_count": 12,
   "metadata": {},
   "outputs": [
    {
     "name": "stdout",
     "output_type": "stream",
     "text": [
      "snake [-4.72386161 -0.44064403]\n",
      "language [-3.89013915  0.33507187]\n",
      "food [10.84042447 14.34534979]\n",
      "bread [-4.64169013 -0.35966075]\n",
      "beer [-3.73115986 -0.9596309 ]\n",
      "oil [-1.61506044  0.57137417]\n",
      "energy [-4.55201597 -1.10450227]\n",
      "revenues [ 15.48341079 -10.98514487]\n",
      "profits [-3.1699081  -1.40221301]\n"
     ]
    },
    {
     "data": {
      "image/png": "[encoded data removed]",
      "text/plain": [
       "<Figure size 576x576 with 1 Axes>"
      ]
     },
     "metadata": {},
     "output_type": "display_data"
    }
   ],
   "source": [
    "word_vectors, words = cooccurrence_vectors(word_list, news_word_ids, M)\n",
    "visualize_vectors(words, word_vectors)"
   ]
  },
  {
   "cell_type": "code",
   "execution_count": 13,
   "metadata": {},
   "outputs": [
    {
     "name": "stdout",
     "output_type": "stream",
     "text": [
      "food [-2.54689418 12.3053275 ]\n",
      "bread [-5.57911831 -0.93033756]\n",
      "wine [-6.26356517 -2.30787893]\n",
      "beer [-6.11620881 -1.58278289]\n",
      "barrels [-6.5732845  -2.31259296]\n",
      "oil [36.94829859 -0.94555299]\n",
      "energy [-3.43322623 -1.81523704]\n",
      "profits [-6.43600137 -2.41094513]\n"
     ]
    },
    {
     "data": {
      "image/png": "[encoded data removed]",
      "text/plain": [
       "<Figure size 576x576 with 1 Axes>"
      ]
     },
     "metadata": {},
     "output_type": "display_data"
    }
   ],
   "source": [
    "word_vectors, words = cooccurrence_vectors(word_list, hobbies_word_ids, M_hobbies)\n",
    "visualize_vectors(words, word_vectors)"
   ]
  },
  {
   "cell_type": "markdown",
   "metadata": {},
   "source": [
    "# 2 Naïve Bayes Classifier\n",
    "We will use the Movie Review dataset from https://www.kaggle.com/pankrzysiu/keras-imdb\n",
    "It contains 50,000 highly polarized reviews, preprocessed, tokenized, indexed and stored into\n",
    "numpy arrays."
   ]
  },
  {
   "cell_type": "code",
   "execution_count": 14,
   "metadata": {},
   "outputs": [],
   "source": [
    "num_words = 10000\n",
    "MAX_NUM_WORDS = 10000\n",
    "\n",
    "import tensorflow as tf\n",
    "from tensorflow.keras.datasets import imdb"
   ]
  },
  {
   "cell_type": "markdown",
   "metadata": {},
   "source": [
    "Load the training and test set:"
   ]
  },
  {
   "cell_type": "code",
   "execution_count": 15,
   "metadata": {},
   "outputs": [
    {
     "name": "stderr",
     "output_type": "stream",
     "text": [
      "<__array_function__ internals>:5: VisibleDeprecationWarning: Creating an ndarray from ragged nested sequences (which is a list-or-tuple of lists-or-tuples-or ndarrays with different lengths or shapes) is deprecated. If you meant to do this, you must specify 'dtype=object' when creating the ndarray\n",
      "d:\\projects-exercises\\hlt-assignments\\venv\\lib\\site-packages\\tensorflow\\python\\keras\\datasets\\imdb.py:159: VisibleDeprecationWarning: Creating an ndarray from ragged nested sequences (which is a list-or-tuple of lists-or-tuples-or ndarrays with different lengths or shapes) is deprecated. If you meant to do this, you must specify 'dtype=object' when creating the ndarray\n",
      "  x_train, y_train = np.array(xs[:idx]), np.array(labels[:idx])\n",
      "d:\\projects-exercises\\hlt-assignments\\venv\\lib\\site-packages\\tensorflow\\python\\keras\\datasets\\imdb.py:160: VisibleDeprecationWarning: Creating an ndarray from ragged nested sequences (which is a list-or-tuple of lists-or-tuples-or ndarrays with different lengths or shapes) is deprecated. If you meant to do this, you must specify 'dtype=object' when creating the ndarray\n",
      "  x_test, y_test = np.array(xs[idx:]), np.array(labels[idx:])\n"
     ]
    }
   ],
   "source": [
    "(x_train, y_train), (x_test, y_test) = imdb.load_data(num_words=MAX_NUM_WORDS, index_from=1)"
   ]
  },
  {
   "cell_type": "markdown",
   "metadata": {},
   "source": [
    "Each document is represented as a list of word IDs, while the output is {0,1} (negative or positive review)"
   ]
  },
  {
   "cell_type": "code",
   "execution_count": 16,
   "metadata": {},
   "outputs": [
    {
     "data": {
      "text/plain": [
       "([1,\n",
       "  192,\n",
       "  1151,\n",
       "  192,\n",
       "  8253,\n",
       "  76,\n",
       "  226,\n",
       "  3,\n",
       "  4,\n",
       "  1461,\n",
       "  4367,\n",
       "  5010,\n",
       "  132,\n",
       "  24,\n",
       "  2,\n",
       "  713,\n",
       "  6,\n",
       "  116,\n",
       "  1632,\n",
       "  12,\n",
       "  392,\n",
       "  18,\n",
       "  11,\n",
       "  117,\n",
       "  952,\n",
       "  187,\n",
       "  100,\n",
       "  3,\n",
       "  205,\n",
       "  108,\n",
       "  3101,\n",
       "  19,\n",
       "  12,\n",
       "  67,\n",
       "  186,\n",
       "  6,\n",
       "  28,\n",
       "  21,\n",
       "  5,\n",
       "  2,\n",
       "  247,\n",
       "  124,\n",
       "  91,\n",
       "  2,\n",
       "  112,\n",
       "  7,\n",
       "  2298,\n",
       "  1521,\n",
       "  3,\n",
       "  645,\n",
       "  2,\n",
       "  114,\n",
       "  7,\n",
       "  33,\n",
       "  8161,\n",
       "  2,\n",
       "  227,\n",
       "  7,\n",
       "  338,\n",
       "  1320,\n",
       "  2,\n",
       "  116,\n",
       "  7,\n",
       "  2,\n",
       "  128,\n",
       "  4899,\n",
       "  17,\n",
       "  2,\n",
       "  1000,\n",
       "  3,\n",
       "  87,\n",
       "  27,\n",
       "  950,\n",
       "  44,\n",
       "  35,\n",
       "  2,\n",
       "  453,\n",
       "  7,\n",
       "  43,\n",
       "  41,\n",
       "  36,\n",
       "  1541,\n",
       "  1903,\n",
       "  396,\n",
       "  2,\n",
       "  1647,\n",
       "  24,\n",
       "  6851,\n",
       "  3,\n",
       "  161,\n",
       "  9,\n",
       "  3213,\n",
       "  2,\n",
       "  2,\n",
       "  1151,\n",
       "  7,\n",
       "  192,\n",
       "  773,\n",
       "  5,\n",
       "  8253,\n",
       "  2,\n",
       "  347,\n",
       "  2635,\n",
       "  146,\n",
       "  603,\n",
       "  2,\n",
       "  8001,\n",
       "  13,\n",
       "  121,\n",
       "  123,\n",
       "  66,\n",
       "  2,\n",
       "  6851,\n",
       "  13,\n",
       "  347,\n",
       "  163,\n",
       "  4360,\n",
       "  96,\n",
       "  3,\n",
       "  2,\n",
       "  226,\n",
       "  7,\n",
       "  41,\n",
       "  2,\n",
       "  1155,\n",
       "  13,\n",
       "  297,\n",
       "  118,\n",
       "  3,\n",
       "  118,\n",
       "  172,\n",
       "  9,\n",
       "  218,\n",
       "  173,\n",
       "  134,\n",
       "  48,\n",
       "  7,\n",
       "  4371,\n",
       "  226,\n",
       "  8253,\n",
       "  3,\n",
       "  2,\n",
       "  654,\n",
       "  243,\n",
       "  2348,\n",
       "  3,\n",
       "  2,\n",
       "  9835,\n",
       "  129,\n",
       "  150,\n",
       "  489,\n",
       "  16,\n",
       "  2,\n",
       "  30,\n",
       "  7462,\n",
       "  1210,\n",
       "  12,\n",
       "  7,\n",
       "  4,\n",
       "  369,\n",
       "  76,\n",
       "  20,\n",
       "  623,\n",
       "  62,\n",
       "  1380,\n",
       "  7,\n",
       "  6,\n",
       "  166,\n",
       "  143,\n",
       "  21,\n",
       "  2,\n",
       "  1688,\n",
       "  13,\n",
       "  14,\n",
       "  2,\n",
       "  1353,\n",
       "  3,\n",
       "  26,\n",
       "  4,\n",
       "  50,\n",
       "  152,\n",
       "  460,\n",
       "  31,\n",
       "  87,\n",
       "  76,\n",
       "  283,\n",
       "  14,\n",
       "  143,\n",
       "  93],\n",
       " 0)"
      ]
     },
     "execution_count": 16,
     "metadata": {},
     "output_type": "execute_result"
    }
   ],
   "source": [
    "x_train[1], y_train[1]"
   ]
  },
  {
   "cell_type": "markdown",
   "metadata": {},
   "source": [
    "## 2.1 Classifier\n",
    "\n",
    "The classifier should be impelemted as a class with two methods: `train()` and `predict()`."
   ]
  },
  {
   "cell_type": "code",
   "execution_count": 17,
   "metadata": {},
   "outputs": [],
   "source": [
    "import numpy as np\n",
    "from collections import defaultdict\n",
    "from collections import Counter\n",
    "\n",
    "class NBayesClassifier():\n",
    "    \n",
    "    def train(self, x_train, y_train):\n",
    "        \"\"\"\n",
    "        :param x_train: an array of list of word IDs\n",
    "        :param y_train: {0,1} category for the correspoding document\n",
    "        \"\"\"\n",
    "        # compute priors for each category\n",
    "        counts = Counter()\n",
    "        for c in y_train:\n",
    "            counts[c] += 1\n",
    "        classes = list(counts.keys())\n",
    "        values = list(counts.values())\n",
    "        self.P_C = dict(zip(classes, np.divide(values, len(y_train))))\n",
    "\n",
    "        # compute the conditional probabilities for each word/category pair\n",
    "        self.logprob = np.zeros(shape=(len(classes), num_words))\n",
    "        n_words_per_class = np.zeros(shape=len(classes))\n",
    "        vocab = set()\n",
    "        for doc, cl in zip(x_train, y_train):\n",
    "            for w in doc:\n",
    "                vocab.add(w)\n",
    "                self.logprob[cl][w] += 1\n",
    "                n_words_per_class[cl] += 1\n",
    "\n",
    "        # turn counts into logprob\n",
    "        alpha = 1\n",
    "        for cl in classes:\n",
    "            self.logprob[cl] = np.divide(self.logprob[cl] + alpha, n_words_per_class[cl] + alpha * len(vocab))\n",
    "            self.logprob[cl] = np.log(self.logprob[cl])\n",
    "            self.P_C[cl] = np.log(self.P_C[cl])\n",
    "\n",
    "    def predict(self, x_test):\n",
    "        \"\"\"\n",
    "        :param x_test: a list of word IDs\n",
    "        :return: the predicted class for :param x_test:.\n",
    "        \"\"\"\n",
    "        y_pred = np.zeros(shape=len(x_test))\n",
    "        for i, doc in enumerate(x_test):\n",
    "            probs = {cl: self.P_C[cl] + np.sum(self.logprob[cl][w] for w in doc) for cl in self.P_C}\n",
    "            max_prob = -np.inf\n",
    "            for k, v in probs.items():\n",
    "                if v > max_prob:\n",
    "                    max_prob = v\n",
    "                    y_pred[i] = k   # assigned at least once because max_prob init at -inf\n",
    "\n",
    "        return y_pred"
   ]
  },
  {
   "cell_type": "code",
   "execution_count": 18,
   "metadata": {},
   "outputs": [],
   "source": [
    "nb_classifier = NBayesClassifier()\n",
    "nb_classifier.train(x_train, y_train)"
   ]
  },
  {
   "cell_type": "markdown",
   "metadata": {},
   "source": [
    "## 2.2 Evaluation"
   ]
  },
  {
   "cell_type": "code",
   "execution_count": 19,
   "metadata": {},
   "outputs": [],
   "source": [
    "def evaluate(y_test, y_pred):\n",
    "    # compute tp, fp, tn, fn\n",
    "    n_correct = 0.\n",
    "    tp = 0.\n",
    "    fp = 0.\n",
    "    fn = 0.\n",
    "    for tru, pred in zip(y_test, y_pred):\n",
    "        if tru == pred:\n",
    "            n_correct += 1\n",
    "        if pred == 1 and tru == 1:\n",
    "            tp += 1\n",
    "        elif pred == 1 and tru == 0:\n",
    "            fp += 1\n",
    "        elif pred == 0 and tru == 1:\n",
    "            fn += 1\n",
    "    accuracy = (n_correct / len(y_test)) * 100.\n",
    "    precision = tp / (tp + fp)\n",
    "    recall = tp / (tp + fn)\n",
    "    F1 = 2 * precision * recall / (precision + recall)\n",
    "    print(\"Accuracy: {:.2f}%\\nPrecision: {:.2f}\\nRecall: {:.2f}\\nF1: {:.2f}\".format(accuracy, precision, recall, F1))"
   ]
  },
  {
   "cell_type": "code",
   "execution_count": 20,
   "metadata": {},
   "outputs": [
    {
     "name": "stderr",
     "output_type": "stream",
     "text": [
      "<ipython-input-17-33229d2dfb87>:44: DeprecationWarning: Calling np.sum(generator) is deprecated, and in the future will give a different result. Use np.sum(np.fromiter(generator)) or the python sum builtin instead.\n",
      "  probs = {cl: self.P_C[cl] + np.sum(self.logprob[cl][w] for w in doc) for cl in self.P_C}\n"
     ]
    },
    {
     "name": "stdout",
     "output_type": "stream",
     "text": [
      "Accuracy: 81.71%\n",
      "Precision: 0.85\n",
      "Recall: 0.77\n",
      "F1: 0.81\n"
     ]
    }
   ],
   "source": [
    "y_pred = nb_classifier.predict(x_test)\n",
    "evaluate(y_test, y_pred)"
   ]
  },
  {
   "cell_type": "markdown",
   "metadata": {},
   "source": [
    "Compare with an official metrics:"
   ]
  },
  {
   "cell_type": "code",
   "execution_count": 21,
   "metadata": {},
   "outputs": [
    {
     "name": "stdout",
     "output_type": "stream",
     "text": [
      "              precision    recall  f1-score   support\n",
      "\n",
      "           0       0.79      0.87      0.83     12500\n",
      "           1       0.85      0.77      0.81     12500\n",
      "\n",
      "    accuracy                           0.82     25000\n",
      "   macro avg       0.82      0.82      0.82     25000\n",
      "weighted avg       0.82      0.82      0.82     25000\n",
      "\n"
     ]
    }
   ],
   "source": [
    "from sklearn.metrics import classification_report\n",
    "print(classification_report(y_test, y_pred))\n"
   ]
  }
 ],
 "metadata": {
  "kernelspec": {
   "display_name": "Python 3",
   "language": "python",
   "name": "python3"
  },
  "language_info": {
   "codemirror_mode": {
    "name": "ipython",
    "version": 3
   },
   "file_extension": ".py",
   "mimetype": "text/x-python",
   "name": "python",
   "nbconvert_exporter": "python",
   "pygments_lexer": "ipython3",
   "version": "3.8.8"
  }
 },
 "nbformat": 4,
 "nbformat_minor": 4
}
